{
  "metadata": {
    "kernelspec": {
      "name": "xpython",
      "display_name": "Python 3.13 (XPython)",
      "language": "python"
    },
    "language_info": {
      "file_extension": ".py",
      "mimetype": "text/x-python",
      "name": "python",
      "version": "3.13.1"
    }
  },
  "nbformat_minor": 5,
  "nbformat": 4,
  "cells": [
    {
      "id": "81352761-d748-4280-b2fe-6fa533a75b05",
      "cell_type": "code",
      "source": "import pandas as pd\nimport numpy as np\nimport matplotlib.pyplot as plt\n\nfrom sklearn.model_selection import train_test_split, cross_val_score, StratifiedKFold\nfrom sklearn.metrics import accuracy_score, precision_score, recall_score, classification_report, confusion_matrix, roc_curve, auc\nfrom sklearn.ensemble import RandomForestClassifier\n\n\n# Manipolazione Dataset\ndata = pd.read_csv('3_bitcoin_clean.csv')\ndata['Close'] = data['Close'].interpolate(method='linear')\n\ndata['Long_Term_Price'] = data['Close'].ewm(span=288000, adjust=False).mean()\ndata['Short_Term_Price'] = data['Close'].ewm(span=72000, adjust=False).mean()\ndata['signal'] = (data['Short_Term_Price'] > data['Long_Term_Price']).astype(int)\n\nplt.plot(data['Timestamp'], data['Close'], label='Long_Term_Price')\nplt.plot(data['Timestamp'], data['Long_Term_Price'], color='orange', label='Long_Term_Price')\nplt.plot(data['Timestamp'], data['Short_Term_Price'],color='red', label='Short_Term_Price')\n\n# Training\nX = data[['Short_Term_Price', 'Long_Term_Price']]\ny = data['signal']\nX_train, X_test, y_train, y_test = train_test_split(X, y, test_size=0.2, random_state=42)\n\nmodel3 = RandomForestClassifier(n_estimators=100, random_state=42)\nmodel3.fit(X_train, y_train)\n\ny_pred = model3.predict(X_test)\nyy=model3.predict(X)\n\ndata['Pred']= yy\n# Valutazione modello\nprint(precision_score(y_test, y_pred))\nprint(recall_score(y_test, y_pred))\n\naccuracy = accuracy_score(y_test, y_pred)\nreport = classification_report(y_test, y_pred)\nscores = cross_val_score(model3, X, y, cv=5)\nstd_score = np.std(scores)\nprint(\"Standard Deviation:\", std_score)\nprint(scores)\nprint(scores.mean())\nprint(f'Accuracy: {accuracy}')\nprint('Classification Report:')\nprint(report)\n\naccuracytot=accuracy_score(y,yy)\nprint(f'Accuracy: {accuracytot}')\n\n\n\n# Auc-roc\nkf = StratifiedKFold(n_splits=5, shuffle=True, random_state=42)\n# Liste per memorizzare le metriche e le curve\nconfusion_matrices = []\nroc_curves = []\nroc_aucs = []\n\n# Colori per le curve ROC\ncolors = ['blue', 'green', 'red', 'purple', 'orange']\n\n# Iterare attraverso i folds\nfor fold_idx, (train_index, val_index) in enumerate(kf.split(X, y)):\n    X_train, X_val = X[train_index], X[val_index]\n    y_train, y_val = y[train_index], y[val_index]\n    \n    # Addestrare il modello\n    model3.fit(X_train, y_train)\n    \n    # Fare previsioni sul fold di validazione\n    y_val_pred = model3.predict(X_test)\n    y_val_prob = model3.predict_proba(X_test)[:, 1]\n    \n    # Calcolare la matrice di confusione\n    conf_matrix = confusion_matrix(y_val, y_val_pred)\n    confusion_matrices.append(conf_matrix)\n    \n    # Calcolare la curva ROC\n    fpr, tpr, _ = roc_curve(y_val, y_val_prob)\n    roc_curves.append((fpr, tpr))\n    \n    # Calcolare l'area sotto la curva ROC\n    roc_auc = auc(fpr, tpr)\n    roc_aucs.append(roc_auc)\n\n\n# Model 3 on next dataset \ndata1 = pd.read_csv('4_bitcoin_clean.csv')\ndata1['Close'] = data1['Close'].interpolate(method='linear')\n\ndata1['Long_Term_Price'] = data1['Close'].ewm(span=288000, adjust=False).mean()\ndata1['Short_Term_Price'] = data1['Close'].ewm(span=72000, adjust=False).mean()\ndata1['signal'] = (data1['Short_Term_Price'] > data1['Long_Term_Price']).astype(int)\n\nX1 = data1[['Short_Term_Price', 'Long_Term_Price']]\ny1 = data1['signal']\n\n#Model use\ndata1['Pred']=model3.predict(X1)\n\n\n\n# Signal visualization\nbuy=data1[data1['Pred'] == 1]\nno_buy= data1[data1['Pred'] == 0]\nbuyp= data1[data1['signal'] == 1]\nno_buyp= data1[data1['signal'] == 0]\n\nplt.scatter(buy.index, buy['Close'], label='Buy Signal', color='green', marker='^', alpha=0.4, s=6)\nplt.scatter(no_buy.index, no_buy['Close'], label='No Buy Signal', color='red', marker='v', alpha=0.8, s=10)\n\nplt.scatter(buyp.index, buyp['Close'], label='Buy Signal', color='green', marker='^', alpha=0.4, s=6)\nplt.scatter(no_buyp.index, no_buyp['Close'], label='No Buy Signal', color='red', marker='v', alpha=0.8, s=10)\n\n",
      "metadata": {
        "trusted": true
      },
      "outputs": [],
      "execution_count": null
    }
  ]
}